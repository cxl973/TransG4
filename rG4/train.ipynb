{
 "cells": [
  {
   "cell_type": "code",
   "execution_count": null,
   "metadata": {},
   "outputs": [],
   "source": [
    "import sys\n",
    "sys.path.append('../')\n",
    "sys.path.append('../../')\n",
    "\n",
    "import matplotlib.pyplot as plt\n",
    "import pandas as pd\n",
    "import tensorflow as tf\n",
    "from tensorflow.keras.models import load_model\n",
    "from scipy.stats import pearsonr\n",
    "from utils import get_data, set_data_size\n",
    "import seaborn as sns\n",
    "from tensorflow.keras.models import Sequential\n",
    "from tensorflow.keras.layers import *\n",
    "from tensorflow.keras.losses import MeanSquaredError\n",
    "from tensorflow.keras.callbacks import Callback\n",
    "import numpy as np\n",
    "from utils import one_hot_enc\n",
    "from hyper_params import HyperParams\n",
    "from tensorflow.keras.regularizers import l2\n",
    "from tensorflow.keras.models import Model\n",
    "from models import gen_model\n",
    "from models import TransformerBlock\n",
    "from Bio import SeqIO\n",
    "from tensorflow.keras.callbacks import EarlyStopping"
   ]
  },
  {
   "cell_type": "code",
   "execution_count": null,
   "metadata": {},
   "outputs": [],
   "source": [
    "def load_data(data_path):\n",
    "\n",
    "    [x_train, y_train, _], [x_test, y_test, _], [x_val, y_val, _], = get_data(data_path, min_read=2000)\n",
    "    [x_test] = set_data_size(80, [x_test])\n",
    "\n",
    "    return x_test, y_test"
   ]
  },
  {
   "cell_type": "code",
   "execution_count": null,
   "metadata": {},
   "outputs": [],
   "source": [
    "def train(kernel_size):\n",
    "    [x_train, y_train, _], [x_test, y_test, _], [x_val, y_val, _] = get_data('./data/human')\n",
    "    [x_train, x_test, x_val] = set_data_size(80, [x_train, x_test, x_val])\n",
    "    es_callback = EarlyStopping(monitor='val_loss', patience=3)\n",
    "    cp_callback = tf.keras.callbacks.ModelCheckpoint(\n",
    "        f'./model_multi_kernel/{kernel_size}.h5',\n",
    "        save_best_only=True,\n",
    "        mode='max',\n",
    "        monitor='val_pearson'\n",
    "    )\n",
    "    model = gen_model(kernel_size)\n",
    "    lr_schedule = tf.keras.optimizers.schedules.ExponentialDecay(\n",
    "        0.001,\n",
    "        decay_steps=20,\n",
    "        decay_rate=0.99\n",
    "    )\n",
    "    model.compile(loss=MeanSquaredError(), optimizer=tf.keras.optimizers.Adam(lr_schedule),\n",
    "                   metrics=[tf.keras.metrics.MeanAbsoluteError(), tf.keras.metrics.MeanSquaredError()])\n",
    "    model.fit(x_train, y_train, batch_size=128, epochs=20, validation_data=(x_val, y_val), shuffle=True)\n",
    "\n",
    "    model = load_model('./models/' + str(kernel_size) + '.h5', custom_objects={'TransformerBlock': TransformerBlock})\n",
    "    y_hat = model(x_val).numpy()\n",
    "    y_hat = y_hat.reshape(len(y_hat))\n",
    "    y_val = y_val.reshape(len(y_val))\n",
    "    # evaluate model performance\n",
    "    pr_corr = pearsonr(y_hat, y_val)[0]\n",
    "    print(f\"val corr = {pr_corr}\")\n",
    "    return pr_corr, model"
   ]
  },
  {
   "cell_type": "code",
   "execution_count": null,
   "metadata": {},
   "outputs": [],
   "source": [
    "def evaluate_model(pre_path):\n",
    "    x_val, y_val = load_data('../data/human')\n",
    "    y_list = []\n",
    "    for i in range(15):\n",
    "        model_path = pre_path + '/model_' + str(i) + '.h5'\n",
    "        # get model\n",
    "        model = load_model(model_path, custom_objects={\"pearson\": pearson, 'TransformerBlock': TransformerBlock})\n",
    "        if i == 0:\n",
    "            # make a prediction on the val set\n",
    "            y_hat = model(x_val).numpy()\n",
    "            y_hat = y_hat.reshape(len(y_hat))\n",
    "            y_val = y_val.reshape(len(y_val))\n",
    "            # evaluate model performance\n",
    "            pr_corr = pearsonr(y_hat, y_val)[0]\n",
    "            print(f\"item:{i}, val corr = {pr_corr}\")\n",
    "            y_list.append(pr_corr)\n",
    "        else:\n",
    "            y_hat = model(x_val).numpy().reshape(len(y_hat)) + y_hat\n",
    "            y_val = y_val.reshape(len(y_val))\n",
    "            # evaluate model performance\n",
    "            pr_corr = pearsonr(y_hat / (i + 1), y_val)[0]\n",
    "            print(f\"item:{i}, val corr = {pr_corr}\")\n",
    "            y_list.append(pr_corr)\n",
    "\n",
    "    print(y_list)"
   ]
  }
 ],
 "metadata": {
  "language_info": {
   "name": "python"
  }
 },
 "nbformat": 4,
 "nbformat_minor": 2
}
